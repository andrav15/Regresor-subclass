{
  "nbformat": 4,
  "nbformat_minor": 0,
  "metadata": {
    "colab": {
      "provenance": [],
      "authorship_tag": "ABX9TyNh3PGAgi/U/6ul+SSjEPuu",
      "include_colab_link": true
    },
    "kernelspec": {
      "name": "python3",
      "display_name": "Python 3"
    },
    "language_info": {
      "name": "python"
    }
  },
  "cells": [
    {
      "cell_type": "markdown",
      "metadata": {
        "id": "view-in-github",
        "colab_type": "text"
      },
      "source": [
        "<a href=\"https://colab.research.google.com/github/andrav15/Regresor-subclass/blob/main/Regresor_subclass.ipynb\" target=\"_parent\"><img src=\"https://colab.research.google.com/assets/colab-badge.svg\" alt=\"Open In Colab\"/></a>"
      ]
    },
    {
      "cell_type": "code",
      "execution_count": 1,
      "metadata": {
        "id": "Dl_gD0aN1mCN"
      },
      "outputs": [],
      "source": [
        "import torch\n",
        "import math"
      ]
    },
    {
      "cell_type": "code",
      "source": [
        "class Polynomial3(torch.nn.Module):#clas Polynomial3 extinde torch.nn.Module\n",
        "    def __init__(self):\n",
        "        \"\"\"\n",
        "        In the constructor we instantiate four parameters and assign them as\n",
        "        member parameters.\n",
        "        \"\"\"\n",
        "        super().__init__()#constructorul cls parinte\n",
        "        self.a = torch.nn.Parameter(torch.randn(()))#param 1,b,c,d sunt def ca param ai modelului pt a fi mai usor de invatat\n",
        "        self.b = torch.nn.Parameter(torch.randn(()))#in timpul antrenarii val lor vor fi ajustate pt a minimiza fct de pierdere\n",
        "        self.c = torch.nn.Parameter(torch.randn(()))\n",
        "        self.d = torch.nn.Parameter(torch.randn(()))\n",
        "\n",
        "    def forward(self, x):#accepta un tensor x pt care sa facem predictii\n",
        "        \"\"\"\n",
        "        In the forward function we accept a Tensor of input data and we must return\n",
        "        a Tensor of output data. We can use Modules defined in the constructor as\n",
        "        well as arbitrary operators on Tensors.\n",
        "        \"\"\"\n",
        "        return self.a + self.b * x + self.c * x ** 2 + self.d * x ** 3#formula polinomiala la iesire\n",
        "#este apelata de fiecare data cand se trece prin model pt o evaluare rapida a predictiilor\n",
        "    def string(self):#returneaza o repr usor de inteles\n",
        "        \"\"\"\n",
        "        Just like any class in Python, you can also define custom method on PyTorch modules\n",
        "        \"\"\"\n",
        "        return f'y = {self.a.item()} + {self.b.item()} x + {self.c.item()} x^2 + {self.d.item()} x^3'\n"
      ],
      "metadata": {
        "id": "rCMPajUi1wmh"
      },
      "execution_count": 2,
      "outputs": []
    },
    {
      "cell_type": "code",
      "source": [
        "x = torch.linspace(-math.pi, math.pi, 2000)#tensor x care contine 2000 de val in -pi pi\n",
        "y = torch.sin(x)#calc val sinusului pt fiecare val din x->ensor y"
      ],
      "metadata": {
        "id": "4JcjvrO62sNO"
      },
      "execution_count": 3,
      "outputs": []
    },
    {
      "cell_type": "code",
      "source": [
        "model = Polynomial3()#instanta a cls"
      ],
      "metadata": {
        "id": "iR6OvrGh282t"
      },
      "execution_count": 4,
      "outputs": []
    },
    {
      "cell_type": "code",
      "source": [
        "criterion = torch.nn.MSELoss(reduction='sum')\n",
        "#torch.nn.MSELoss e o fct de pierdere care calc MSE intre val prezise y_pred si val reale y.\n",
        "#reduction='sum' :pierderea total e sumna tuturor pierderilor indiv\n",
        "optimizer = torch.optim.SGD(model.parameters(), lr=1e-6)\n",
        "#torch.optim.SGD: optimizer bazat pe metoda grad descendent stocastic->actualizarea param in timpul anntrenarii\n",
        "#model.parameters()->return toti param iar optimizerul fol acesti param pt a ajusta val lor in antrenare->pierdere minimizata\n",
        "#lr mic->proces de invatare stabil"
      ],
      "metadata": {
        "id": "MasxJmGq3Jc0"
      },
      "execution_count": 5,
      "outputs": []
    },
    {
      "cell_type": "code",
      "source": [
        "for t in range(2000):#2000 de epoci\n",
        "    # Forward pass: Compute predicted y by passing x to the model\n",
        "    y_pred = model(x)#calc predictia pt val coresp\n",
        "\n",
        "    # Compute and print loss\n",
        "    loss = criterion(y_pred, y)#calc pierderea comparand predictiile modelului cu cele reale\n",
        "    if t % 100 == 99:\n",
        "        print(t, loss.item())#la fiecare 100 de epoci>pierderea curenta\n",
        "\n",
        "    # Zero gradients, perform a backward pass, and update the weights.\n",
        "    optimizer.zero_grad()#resetam gad pt a nu se acumula in timpul antrenarii\n",
        "    loss.backward()#calc grad pt fiecare param din model pe baza pierderii\n",
        "    optimizer.step()#etapa finala: optimizerul aplica actualizarile calculate la w\n",
        "    #.step() efectueaza pasii necesari pt a modif w pe baza  grad\n",
        "\n",
        "print(f'Result: {model.string()}')"
      ],
      "metadata": {
        "colab": {
          "base_uri": "https://localhost:8080/"
        },
        "id": "rQ6tmd8m35Gh",
        "outputId": "7e72adc8-185f-4458-8ff3-8f4bc2ba5617"
      },
      "execution_count": 6,
      "outputs": [
        {
          "output_type": "stream",
          "name": "stdout",
          "text": [
            "99 3300.308349609375\n",
            "199 2187.875244140625\n",
            "299 1451.5311279296875\n",
            "399 964.0938110351562\n",
            "499 641.4010620117188\n",
            "599 427.7552185058594\n",
            "699 286.2941589355469\n",
            "799 192.6202392578125\n",
            "899 130.5843963623047\n",
            "999 89.49673461914062\n",
            "1099 62.280391693115234\n",
            "1199 44.25038528442383\n",
            "1299 32.304466247558594\n",
            "1399 24.388578414916992\n",
            "1499 19.14226531982422\n",
            "1599 15.664885520935059\n",
            "1699 13.35953140258789\n",
            "1799 11.830938339233398\n",
            "1899 10.8172025680542\n",
            "1999 10.144775390625\n",
            "Result: y = 0.009304829873144627 + 0.8223678469657898 x + -0.0016052353894338012 x^2 + -0.08844112604856491 x^3\n"
          ]
        }
      ]
    }
  ]
}